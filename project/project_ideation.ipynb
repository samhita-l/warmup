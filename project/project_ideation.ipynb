{
 "cells": [
  {
   "cell_type": "markdown",
   "metadata": {},
   "source": [
    "---\n",
    "toc: true\n",
    "comments: true\n",
    "layout: notebook\n",
    "title: Project Ideation\n",
    "type: hacks\n",
    "courses: { compsci: {week: 13} }\n",
    "---"
   ]
  },
  {
   "cell_type": "markdown",
   "metadata": {},
   "source": [
    "## Project Idea:\n",
    "\n",
    "For our project we decided to impliment logic gates and colors to demonstrate binary. For the first feature, the logic gates, we decided to create a \"key pad\" for a locked door that would require a passcode, or input, in order to unlock it. Above the door, there will be a question and the answer will be taken through the keypad. Each keypad will have a different logic gate operation. One keypad will be an and operation, so it would require two of the correct inputs in order for the door to be unlocked. The second door is a not operation, so any of the inputs that are not (input) would be taken as correct. The third door is an or operation, so if either the correct input of a or b is selected and entered, it would be considered correct. The binary aspect is that the buttons are assigned the values of 0 or 1, depending on if they have been clicked or not. If they haven't been clicked on, the button will read as 0. If they have been clicked on, the value assigned will become one. Depending on if the value is 0 or 1, the keypad will decide if the input is valid or not. The second aspect of our game deals with binary and color. Colors are assigned binary values, and our site will allow the useres to input the binary for any color they would like in order to change the color of the keypad to their prefered color. This is just a style change, and it will not affect the game itself. "
   ]
  }
 ],
 "metadata": {
  "language_info": {
   "name": "python"
  },
  "orig_nbformat": 4
 },
 "nbformat": 4,
 "nbformat_minor": 2
}
